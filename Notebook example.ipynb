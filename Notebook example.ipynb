{
 "cells": [
  {
   "cell_type": "markdown",
   "metadata": {},
   "source": [
    "# Notebook example"
   ]
  },
  {
   "cell_type": "markdown",
   "metadata": {},
   "source": [
    "### What's a cell?"
   ]
  },
  {
   "cell_type": "markdown",
   "metadata": {},
   "source": [
    "Notebook is based on cells. This is a cell. \"What's a cell\" and \"Notebook example\" above are cells. Code below is a cell. In both cases, cell can be edited. Double-click this cell to edit. \n",
    "\n",
    "If you want to go back to default reading mode, click \"run\" button, and you will automatically be moved to a next cell."
   ]
  },
  {
   "cell_type": "markdown",
   "metadata": {},
   "source": [
    "### Am I coding or am I writing regular text?"
   ]
  },
  {
   "cell_type": "markdown",
   "metadata": {},
   "source": [
    "In the dropdown list (In the toolbar above, left from the keyboard symbol that says either Markdown or Code), you can click on that, to change the behavior of the cell. \n",
    "\n",
    "Try to select this cell, and change it from \"Markdown\" to \"Code\". Afterwards, click run. An error should be generated, given the fact that notebook expected python code here. After you get the error you can switch this cell back to a previous markdown mode. "
   ]
  },
  {
   "cell_type": "markdown",
   "metadata": {},
   "source": [
    "### Ok, that was all regular text, let's try some coding. "
   ]
  },
  {
   "cell_type": "markdown",
   "metadata": {},
   "source": [
    "Click run on the cell below that contains python code."
   ]
  },
  {
   "cell_type": "code",
   "execution_count": 7,
   "metadata": {},
   "outputs": [
    {
     "name": "stdout",
     "output_type": "stream",
     "text": [
      "Hello world.\n",
      "Hello world.\n",
      "Hello world.\n"
     ]
    }
   ],
   "source": [
    "i = 1\n",
    "while(i<=3):\n",
    "    print('Hello world.')\n",
    "    i+=1"
   ]
  },
  {
   "cell_type": "markdown",
   "metadata": {},
   "source": [
    "Try once again with visualization:"
   ]
  },
  {
   "cell_type": "code",
   "execution_count": 8,
   "metadata": {},
   "outputs": [
    {
     "data": {
      "image/png": "[encoded data removed]",
      "text/plain": [
       "<Figure size 432x288 with 1 Axes>"
      ]
     },
     "metadata": {},
     "output_type": "display_data"
    }
   ],
   "source": [
    "import numpy as np\n",
    "import seaborn as sns\n",
    "\n",
    "sns.set(color_codes=True)\n",
    "x = np.random.normal(size=100)\n",
    "sns.distplot(x);"
   ]
  },
  {
   "cell_type": "markdown",
   "metadata": {},
   "source": [
    "### Jupyter keyboard shortcuts"
   ]
  },
  {
   "cell_type": "markdown",
   "metadata": {},
   "source": [
    "You can click on a specific cell window to select it, but you can do the same by using up/down arrow on your keyboard. In addition, you can run cells by clicking simultaneously SHIFT and ENTER button. Try it."
   ]
  },
  {
   "cell_type": "markdown",
   "metadata": {},
   "source": [
    "### Copying the code and running it"
   ]
  },
  {
   "cell_type": "markdown",
   "metadata": {},
   "source": [
    "In the following, you will see some examples of python code. Try copying some of the three code examples from here to a new cell (In non-editing mode), and try to run it. See what will you get.\n",
    "\n",
    "<i>Example a) </i><br/>\n",
    "\n",
    "world_is_flat = False <br/>\n",
    "print(f\"Is the world flat?\\nComputer answers: {world_is_flat}\")<br/>\n",
    "\n",
    "<i>Example b) </i><br/>\n",
    "\n",
    "greatest_intellectual = \"Kanye West\" <br/>\n",
    "print(f\"Who is the greatest intellectual of our time?\\nComputer answers: {greatest_intellectual}\")\n",
    "\n",
    "<i>Example c) </i><br/>\n",
    "\n",
    "a = 2 <br/>\n",
    "b = 2 <br/>\n",
    "print(f\"What is 2 times 2 equal to?\\nComputer answers: {a*b}\")"
   ]
  },
  {
   "cell_type": "code",
   "execution_count": null,
   "metadata": {},
   "outputs": [],
   "source": []
  },
  {
   "cell_type": "markdown",
   "metadata": {},
   "source": [
    "If you get an expected output without errors, you're good to go. You should be able now to use Jupyter Notebooks."
   ]
  }
 ],
 "metadata": {
  "kernelspec": {
   "display_name": "Python 3",
   "language": "python",
   "name": "python3"
  },
  "language_info": {
   "codemirror_mode": {
    "name": "ipython",
    "version": 3
   },
   "file_extension": ".py",
   "mimetype": "text/x-python",
   "name": "python",
   "nbconvert_exporter": "python",
   "pygments_lexer": "ipython3",
   "version": "3.7.6"
  }
 },
 "nbformat": 4,
 "nbformat_minor": 4
}
